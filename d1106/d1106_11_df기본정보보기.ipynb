{
 "cells": [
  {
   "cell_type": "code",
   "execution_count": null,
   "metadata": {},
   "outputs": [],
   "source": [
    "import pandas as pd\n",
    "df = pd.read_excel('score.xlsx',index_col='지원번호')\n",
    "df"
   ]
  },
  {
   "cell_type": "code",
   "execution_count": null,
   "metadata": {},
   "outputs": [],
   "source": [
    "# 데이터 계산 정보 확인\n",
    "# describe(): df 컬럼 중 number 에 해당되는 데이터의 개수,평균,표준편차,최소값,최대값 출력\n",
    "df.describe()"
   ]
  },
  {
   "cell_type": "code",
   "execution_count": null,
   "metadata": {},
   "outputs": [],
   "source": [
    "data = {\n",
    "  '번호':[1,2,3,4,5,6,7],\n",
    "  '이름':['홍길동','유관순','이순신','강감찬','김구','김유신','홍길자'],\n",
    "  '국어':[100,80,90,60,100,80,100],\n",
    "  '영어':[100,80,90,65,100,80,100],\n",
    "  '수학':[99,85,91,67,84,71,90],\n",
    "  '합계':[299,245,271,192,284,231,290],\n",
    "  '평균':[99.67,81.67,90.33,64.0,94.67,77.0,96.67],\n",
    "  '등수':[0,0,0,0,0,0,0]\n",
    "}\n",
    "df = pd.DataFrame(data,index = ['1번','2번','3번','4번','5번','6번','7번'])\n",
    "# df[['번호','이름','합계','평균']]\n",
    "# df.index = ['1번','2번','3번','4번','5번','6번','7번']\n",
    "df.index.name = '지원번호'\n",
    "df\n",
    "\n",
    "# info(): df의 데이터 이름, 크기, 타입 확인 가능\n",
    "df.info()\n",
    "df.describe()\n",
    "\n"
   ]
  },
  {
   "cell_type": "code",
   "execution_count": null,
   "metadata": {},
   "outputs": [],
   "source": [
    "# 상위 5개\n",
    "df.head()\n",
    "# 하위 5개\n",
    "df.tail()"
   ]
  },
  {
   "cell_type": "code",
   "execution_count": 12,
   "metadata": {},
   "outputs": [
    {
     "data": {
      "text/plain": [
       "(1000, 7)"
      ]
     },
     "execution_count": 12,
     "metadata": {},
     "output_type": "execute_result"
    }
   ],
   "source": [
    "# 배열구조\n",
    "df.values # 배열구조확인\n",
    "df.index # 배열 index\n",
    "df.index[1:3] # index 슬라이싱\n",
    "df.columns  # 상단 컬럼 확인\n",
    "\n",
    "# 컬럼의 0번째 확인\n",
    "df.columns[0]\n",
    "df.columns[0:3] # cloumns 슬라이싱\n",
    "\n",
    "# df 크기 확인\n",
    "df = pd.read_excel('pandas_code.xlsx')\n",
    "df.tail()\n",
    "df.head()\n",
    "df.shape"
   ]
  }
 ],
 "metadata": {
  "kernelspec": {
   "display_name": "Python 3",
   "language": "python",
   "name": "python3"
  },
  "language_info": {
   "codemirror_mode": {
    "name": "ipython",
    "version": 3
   },
   "file_extension": ".py",
   "mimetype": "text/x-python",
   "name": "python",
   "nbconvert_exporter": "python",
   "pygments_lexer": "ipython3",
   "version": "3.12.6"
  }
 },
 "nbformat": 4,
 "nbformat_minor": 2
}
