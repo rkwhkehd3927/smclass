{
 "cells": [
  {
   "cell_type": "code",
   "execution_count": 7,
   "metadata": {},
   "outputs": [
    {
     "data": {
      "text/plain": [
       "count    1000.000000\n",
       "mean       72.397000\n",
       "std        16.236595\n",
       "min        45.000000\n",
       "25%        59.000000\n",
       "50%        72.000000\n",
       "75%        86.000000\n",
       "max       100.000000\n",
       "Name: 수학, dtype: float64"
      ]
     },
     "execution_count": 7,
     "metadata": {},
     "output_type": "execute_result"
    }
   ],
   "source": [
    "import pandas as pd\n",
    "df = pd.read_excel('pandas_code.xlsx')\n",
    "df.describe()\n",
    "df['수학'].describe()"
   ]
  },
  {
   "cell_type": "code",
   "execution_count": null,
   "metadata": {},
   "outputs": [
    {
     "data": {
      "text/plain": [
       "18     45\n",
       "117    45\n",
       "188    45\n",
       "Name: 수학, dtype: int64"
      ]
     },
     "execution_count": 11,
     "metadata": {},
     "output_type": "execute_result"
    }
   ],
   "source": [
    "df['수학'].min() # 최소값\n",
    "df['수학'].max() # 최대값 \n",
    "df['수학'].mean() # 평균\n",
    "df['수학'].std() # 표준편차\n",
    "df['수학'].nlargest(3) # 최대값 3명 출력 # 기본은 5명\n",
    "df['수학'].nsmallest(3) # 최소값 3명 출력"
   ]
  },
  {
   "cell_type": "code",
   "execution_count": null,
   "metadata": {},
   "outputs": [
    {
     "data": {
      "text/plain": [
       "5    202\n",
       "0    197\n",
       "7    190\n",
       "Name: 키, dtype: int64"
      ]
     },
     "execution_count": 13,
     "metadata": {},
     "output_type": "execute_result"
    }
   ],
   "source": [
    "df = pd.read_excel('score.xlsx')\n",
    "df['키'].min()\n",
    "df['키'].max()\n",
    "df['키'].mean()\n",
    "df['키'].nlargest(3)\n",
    "df['키'].nsmallest(3)\n",
    "df['키'].count(3)\n",
    "df['키'].sum(3) # 총합\n",
    "df['학교'].unique(3) # 중복 제거 데이터\n",
    "df['학교'].nunique(3) # 중복 제거 개수\n"
   ]
  },
  {
   "cell_type": "code",
   "execution_count": null,
   "metadata": {},
   "outputs": [],
   "source": [
    "df['키']\n",
    "df[['이름','키']]\n",
    "\n",
    "# 모든 컬럼 확인\n",
    "df.columns\n",
    "df.columns[0] # 컬럼 0번째 확인\n",
    "df.columns[2]\n",
    "df.columns[2:5] # 컬럼 슬라이싱\n",
    "df['이름'] # 컬럼의 데이터 확인\n",
    "df.columns[-1]\n",
    "# 컬럼 데이터 확인 - 제일 마지막 컬럼의 데이터를 확인할 때\n",
    "# dw['SW특기']\n",
    "df[df.columns[-1]] # 컬럼의 마지막 데이터 확인\n",
    "df[df.columns[[0,3,-1]]] # 0번째, 3번째, 마지막 데이터 확인\n",
    "\n"
   ]
  }
 ],
 "metadata": {
  "kernelspec": {
   "display_name": "Python 3",
   "language": "python",
   "name": "python3"
  },
  "language_info": {
   "codemirror_mode": {
    "name": "ipython",
    "version": 3
   },
   "file_extension": ".py",
   "mimetype": "text/x-python",
   "name": "python",
   "nbconvert_exporter": "python",
   "pygments_lexer": "ipython3",
   "version": "3.12.6"
  }
 },
 "nbformat": 4,
 "nbformat_minor": 2
}
