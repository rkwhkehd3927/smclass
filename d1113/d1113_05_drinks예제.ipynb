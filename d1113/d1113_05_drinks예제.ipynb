{
 "cells": [
  {
   "cell_type": "code",
   "execution_count": 130,
   "metadata": {},
   "outputs": [],
   "source": [
    "import matplotlib.pyplot as plt\n",
    "import matplotlib\n",
    "# 한글설정\n",
    "matplotlib.rcParams['font.family'] = 'Malgun Gothic' # window용 # 안넣으면 한글 깨짐\n",
    "matplotlib.rcParams['font.size'] = 15 # 글자 크기\n",
    "matplotlib.rcParams['axes.unicode_minus'] = False # 특수기호 (-) 출력\n",
    "# matplotlib.rcParams['font.family'] = 'AppleGothic'   # Mac용\n",
    "import pandas as pd\n",
    "import numpy as np"
   ]
  },
  {
   "cell_type": "code",
   "execution_count": 131,
   "metadata": {},
   "outputs": [
    {
     "data": {
      "text/html": [
       "<div>\n",
       "<style scoped>\n",
       "    .dataframe tbody tr th:only-of-type {\n",
       "        vertical-align: middle;\n",
       "    }\n",
       "\n",
       "    .dataframe tbody tr th {\n",
       "        vertical-align: top;\n",
       "    }\n",
       "\n",
       "    .dataframe thead th {\n",
       "        text-align: right;\n",
       "    }\n",
       "</style>\n",
       "<table border=\"1\" class=\"dataframe\">\n",
       "  <thead>\n",
       "    <tr style=\"text-align: right;\">\n",
       "      <th></th>\n",
       "      <th>country</th>\n",
       "      <th>beer_servings</th>\n",
       "      <th>spirit_servings</th>\n",
       "      <th>wine_servings</th>\n",
       "      <th>total_litres_of_pure_alcohol</th>\n",
       "      <th>continent</th>\n",
       "    </tr>\n",
       "  </thead>\n",
       "  <tbody>\n",
       "    <tr>\n",
       "      <th>0</th>\n",
       "      <td>Afghanistan</td>\n",
       "      <td>0</td>\n",
       "      <td>0</td>\n",
       "      <td>0</td>\n",
       "      <td>0.0</td>\n",
       "      <td>AS</td>\n",
       "    </tr>\n",
       "    <tr>\n",
       "      <th>1</th>\n",
       "      <td>Albania</td>\n",
       "      <td>89</td>\n",
       "      <td>132</td>\n",
       "      <td>54</td>\n",
       "      <td>4.9</td>\n",
       "      <td>EU</td>\n",
       "    </tr>\n",
       "    <tr>\n",
       "      <th>2</th>\n",
       "      <td>Algeria</td>\n",
       "      <td>25</td>\n",
       "      <td>0</td>\n",
       "      <td>14</td>\n",
       "      <td>0.7</td>\n",
       "      <td>AF</td>\n",
       "    </tr>\n",
       "    <tr>\n",
       "      <th>3</th>\n",
       "      <td>Andorra</td>\n",
       "      <td>245</td>\n",
       "      <td>138</td>\n",
       "      <td>312</td>\n",
       "      <td>12.4</td>\n",
       "      <td>EU</td>\n",
       "    </tr>\n",
       "    <tr>\n",
       "      <th>4</th>\n",
       "      <td>Angola</td>\n",
       "      <td>217</td>\n",
       "      <td>57</td>\n",
       "      <td>45</td>\n",
       "      <td>5.9</td>\n",
       "      <td>AF</td>\n",
       "    </tr>\n",
       "    <tr>\n",
       "      <th>...</th>\n",
       "      <td>...</td>\n",
       "      <td>...</td>\n",
       "      <td>...</td>\n",
       "      <td>...</td>\n",
       "      <td>...</td>\n",
       "      <td>...</td>\n",
       "    </tr>\n",
       "    <tr>\n",
       "      <th>188</th>\n",
       "      <td>Venezuela</td>\n",
       "      <td>333</td>\n",
       "      <td>100</td>\n",
       "      <td>3</td>\n",
       "      <td>7.7</td>\n",
       "      <td>SA</td>\n",
       "    </tr>\n",
       "    <tr>\n",
       "      <th>189</th>\n",
       "      <td>Vietnam</td>\n",
       "      <td>111</td>\n",
       "      <td>2</td>\n",
       "      <td>1</td>\n",
       "      <td>2.0</td>\n",
       "      <td>AS</td>\n",
       "    </tr>\n",
       "    <tr>\n",
       "      <th>190</th>\n",
       "      <td>Yemen</td>\n",
       "      <td>6</td>\n",
       "      <td>0</td>\n",
       "      <td>0</td>\n",
       "      <td>0.1</td>\n",
       "      <td>AS</td>\n",
       "    </tr>\n",
       "    <tr>\n",
       "      <th>191</th>\n",
       "      <td>Zambia</td>\n",
       "      <td>32</td>\n",
       "      <td>19</td>\n",
       "      <td>4</td>\n",
       "      <td>2.5</td>\n",
       "      <td>AF</td>\n",
       "    </tr>\n",
       "    <tr>\n",
       "      <th>192</th>\n",
       "      <td>Zimbabwe</td>\n",
       "      <td>64</td>\n",
       "      <td>18</td>\n",
       "      <td>4</td>\n",
       "      <td>4.7</td>\n",
       "      <td>AF</td>\n",
       "    </tr>\n",
       "  </tbody>\n",
       "</table>\n",
       "<p>193 rows × 6 columns</p>\n",
       "</div>"
      ],
      "text/plain": [
       "         country  beer_servings  spirit_servings  wine_servings  \\\n",
       "0    Afghanistan              0                0              0   \n",
       "1        Albania             89              132             54   \n",
       "2        Algeria             25                0             14   \n",
       "3        Andorra            245              138            312   \n",
       "4         Angola            217               57             45   \n",
       "..           ...            ...              ...            ...   \n",
       "188    Venezuela            333              100              3   \n",
       "189      Vietnam            111                2              1   \n",
       "190        Yemen              6                0              0   \n",
       "191       Zambia             32               19              4   \n",
       "192     Zimbabwe             64               18              4   \n",
       "\n",
       "     total_litres_of_pure_alcohol continent  \n",
       "0                             0.0        AS  \n",
       "1                             4.9        EU  \n",
       "2                             0.7        AF  \n",
       "3                            12.4        EU  \n",
       "4                             5.9        AF  \n",
       "..                            ...       ...  \n",
       "188                           7.7        SA  \n",
       "189                           2.0        AS  \n",
       "190                           0.1        AS  \n",
       "191                           2.5        AF  \n",
       "192                           4.7        AF  \n",
       "\n",
       "[193 rows x 6 columns]"
      ]
     },
     "execution_count": 131,
     "metadata": {},
     "output_type": "execute_result"
    }
   ],
   "source": [
    "df = pd.read_csv('drinks.csv')\n",
    "df.columns\n",
    "df"
   ]
  },
  {
   "cell_type": "code",
   "execution_count": null,
   "metadata": {},
   "outputs": [],
   "source": [
    "# total_servings 컬럼 추가 생성 후, 대륙별 total_servings 를 원그래프로 출력"
   ]
  },
  {
   "cell_type": "code",
   "execution_count": 132,
   "metadata": {},
   "outputs": [],
   "source": [
    "df['total_servings'] = df['beer_servings']+df['spirit_servings']+df['wine_servings']"
   ]
  },
  {
   "cell_type": "code",
   "execution_count": 30,
   "metadata": {},
   "outputs": [],
   "source": [
    "filt = df.groupby('continent')['total_servings'].count()"
   ]
  },
  {
   "cell_type": "code",
   "execution_count": 59,
   "metadata": {},
   "outputs": [
    {
     "data": {
      "text/plain": [
       "([<matplotlib.patches.Wedge at 0x268184512b0>,\n",
       "  <matplotlib.patches.Wedge at 0x268184513d0>,\n",
       "  <matplotlib.patches.Wedge at 0x26818448d40>,\n",
       "  <matplotlib.patches.Wedge at 0x2680ffd0aa0>,\n",
       "  <matplotlib.patches.Wedge at 0x26818443290>],\n",
       " [Text(0.6132383295710645, 0.9132024699621057, ''),\n",
       "  Text(-1.0257194997154064, 0.3973657105281941, ''),\n",
       "  Text(-0.32052848156630326, -1.0522649345601136, ''),\n",
       "  Text(0.8129099856298609, -0.7410650141946113, ''),\n",
       "  Text(1.073063246305278, -0.24194063203351873, '')],\n",
       " [Text(0.3902425733634046, 0.58112884452134, '31.2%'),\n",
       "  Text(-0.6527305907279858, 0.25286908851794165, '25.9%'),\n",
       "  Text(-0.2039726700876475, -0.6696231401746177, '26.5%'),\n",
       "  Text(0.5173063544917297, -0.4715868272147526, '9.4%'),\n",
       "  Text(0.682858429466995, -0.15396222038496643, '7.1%')])"
      ]
     },
     "execution_count": 59,
     "metadata": {},
     "output_type": "execute_result"
    },
    {
     "data": {
      "image/png": "[encoded data removed]",
      "text/plain": [
       "<Figure size 640x480 with 1 Axes>"
      ]
     },
     "metadata": {},
     "output_type": "display_data"
    }
   ],
   "source": [
    "\n",
    "wedgeprops = {'width':0.6}\n",
    "colors = ['pink','mintcream','skyblue','plum','ivory']\n",
    "\n",
    "def custom_autopct(pct):\n",
    "  return f'{pct:.1f}%' if pct >= 5 else ''\n",
    "\n",
    "plt.pie(filt,autopct=custom_autopct,wedgeprops=wedgeprops,pctdistance=0.7,colors=colors)"
   ]
  },
  {
   "cell_type": "markdown",
   "metadata": {},
   "source": [
    "# 선생님이 한것\n",
    "* total_servings 컬럼 추가 생성 후, 대륙별 total_servings 를 원그래프로 출력\n"
   ]
  },
  {
   "cell_type": "code",
   "execution_count": 98,
   "metadata": {},
   "outputs": [
    {
     "name": "stderr",
     "output_type": "stream",
     "text": [
      "C:\\Users\\KOSMO\\AppData\\Local\\Temp\\ipykernel_1352\\536448273.py:1: FutureWarning: A value is trying to be set on a copy of a DataFrame or Series through chained assignment using an inplace method.\n",
      "The behavior will change in pandas 3.0. This inplace method will never work because the intermediate object on which we are setting values always behaves as a copy.\n",
      "\n",
      "For example, when doing 'df[col].method(value, inplace=True)', try using 'df.method({col: value}, inplace=True)' or df[col] = df[col].method(value) instead, to perform the operation inplace on the original object.\n",
      "\n",
      "\n",
      "  df['continent'].fillna('OT',inplace=True) # NaN -> 'OT' 로 채우기\n"
     ]
    }
   ],
   "source": [
    "df['continent'].fillna('OT',inplace=True) # NaN -> 'OT' 로 채우기"
   ]
  },
  {
   "cell_type": "code",
   "execution_count": 45,
   "metadata": {},
   "outputs": [
    {
     "name": "stdout",
     "output_type": "stream",
     "text": [
      "<class 'pandas.core.frame.DataFrame'>\n",
      "RangeIndex: 193 entries, 0 to 192\n",
      "Data columns (total 6 columns):\n",
      " #   Column                        Non-Null Count  Dtype  \n",
      "---  ------                        --------------  -----  \n",
      " 0   country                       193 non-null    object \n",
      " 1   beer_servings                 193 non-null    int64  \n",
      " 2   spirit_servings               193 non-null    int64  \n",
      " 3   wine_servings                 193 non-null    int64  \n",
      " 4   total_litres_of_pure_alcohol  193 non-null    float64\n",
      " 5   continent                     193 non-null    object \n",
      "dtypes: float64(1), int64(3), object(2)\n",
      "memory usage: 9.2+ KB\n"
     ]
    }
   ],
   "source": [
    "df.info()"
   ]
  },
  {
   "cell_type": "code",
   "execution_count": 99,
   "metadata": {},
   "outputs": [
    {
     "data": {
      "text/html": [
       "<div>\n",
       "<style scoped>\n",
       "    .dataframe tbody tr th:only-of-type {\n",
       "        vertical-align: middle;\n",
       "    }\n",
       "\n",
       "    .dataframe tbody tr th {\n",
       "        vertical-align: top;\n",
       "    }\n",
       "\n",
       "    .dataframe thead th {\n",
       "        text-align: right;\n",
       "    }\n",
       "</style>\n",
       "<table border=\"1\" class=\"dataframe\">\n",
       "  <thead>\n",
       "    <tr style=\"text-align: right;\">\n",
       "      <th></th>\n",
       "      <th>country</th>\n",
       "      <th>beer_servings</th>\n",
       "      <th>spirit_servings</th>\n",
       "      <th>wine_servings</th>\n",
       "      <th>total_litres_of_pure_alcohol</th>\n",
       "      <th>continent</th>\n",
       "      <th>total_servings</th>\n",
       "    </tr>\n",
       "  </thead>\n",
       "  <tbody>\n",
       "    <tr>\n",
       "      <th>0</th>\n",
       "      <td>Afghanistan</td>\n",
       "      <td>0</td>\n",
       "      <td>0</td>\n",
       "      <td>0</td>\n",
       "      <td>0.0</td>\n",
       "      <td>AS</td>\n",
       "      <td>0</td>\n",
       "    </tr>\n",
       "    <tr>\n",
       "      <th>1</th>\n",
       "      <td>Albania</td>\n",
       "      <td>89</td>\n",
       "      <td>132</td>\n",
       "      <td>54</td>\n",
       "      <td>4.9</td>\n",
       "      <td>EU</td>\n",
       "      <td>275</td>\n",
       "    </tr>\n",
       "    <tr>\n",
       "      <th>2</th>\n",
       "      <td>Algeria</td>\n",
       "      <td>25</td>\n",
       "      <td>0</td>\n",
       "      <td>14</td>\n",
       "      <td>0.7</td>\n",
       "      <td>AF</td>\n",
       "      <td>39</td>\n",
       "    </tr>\n",
       "    <tr>\n",
       "      <th>3</th>\n",
       "      <td>Andorra</td>\n",
       "      <td>245</td>\n",
       "      <td>138</td>\n",
       "      <td>312</td>\n",
       "      <td>12.4</td>\n",
       "      <td>EU</td>\n",
       "      <td>695</td>\n",
       "    </tr>\n",
       "    <tr>\n",
       "      <th>4</th>\n",
       "      <td>Angola</td>\n",
       "      <td>217</td>\n",
       "      <td>57</td>\n",
       "      <td>45</td>\n",
       "      <td>5.9</td>\n",
       "      <td>AF</td>\n",
       "      <td>319</td>\n",
       "    </tr>\n",
       "  </tbody>\n",
       "</table>\n",
       "</div>"
      ],
      "text/plain": [
       "       country  beer_servings  spirit_servings  wine_servings  \\\n",
       "0  Afghanistan              0                0              0   \n",
       "1      Albania             89              132             54   \n",
       "2      Algeria             25                0             14   \n",
       "3      Andorra            245              138            312   \n",
       "4       Angola            217               57             45   \n",
       "\n",
       "   total_litres_of_pure_alcohol continent  total_servings  \n",
       "0                           0.0        AS               0  \n",
       "1                           4.9        EU             275  \n",
       "2                           0.7        AF              39  \n",
       "3                          12.4        EU             695  \n",
       "4                           5.9        AF             319  "
      ]
     },
     "execution_count": 99,
     "metadata": {},
     "output_type": "execute_result"
    }
   ],
   "source": [
    "df['total_servings'] = df['beer_servings']+df['spirit_servings']+df['wine_servings']\n",
    "df.head()\n"
   ]
  },
  {
   "cell_type": "code",
   "execution_count": 100,
   "metadata": {},
   "outputs": [
    {
     "data": {
      "text/plain": [
       "continent\n",
       "AF    53\n",
       "EU    45\n",
       "AS    44\n",
       "OT    23\n",
       "OC    16\n",
       "SA    12\n",
       "Name: count, dtype: int64"
      ]
     },
     "execution_count": 100,
     "metadata": {},
     "output_type": "execute_result"
    }
   ],
   "source": [
    "df.groupby('continent')['total_servings'].value_counts()\n",
    "\n",
    "# 대륙별 술 총 소비량 합계\n",
    "c_df = df.groupby('continent')['total_servings'].sum()\n",
    "\n",
    "# 대륙별 나라 개수\n",
    "df['continent'].value_counts()\n",
    "\n",
    "# df['continent'].unique() # 중복없이 개수만 # 하지만 순서가 달라서 그래프에는 사용하기 어려움"
   ]
  },
  {
   "cell_type": "code",
   "execution_count": 104,
   "metadata": {},
   "outputs": [
    {
     "data": {
      "text/plain": [
       "Index(['AF', 'AS', 'EU', 'OC', 'OT', 'SA'], dtype='object', name='continent')"
      ]
     },
     "execution_count": 104,
     "metadata": {},
     "output_type": "execute_result"
    }
   ],
   "source": [
    "c_df.index"
   ]
  },
  {
   "cell_type": "code",
   "execution_count": 75,
   "metadata": {},
   "outputs": [
    {
     "data": {
      "image/png": "[encoded data removed]",
      "text/plain": [
       "<Figure size 640x480 with 1 Axes>"
      ]
     },
     "metadata": {},
     "output_type": "display_data"
    }
   ],
   "source": [
    "colors = ['pink','mintcream','skyblue','plum','khaki']\n",
    "wedgeprops={'width':0.6,'edgecolor':'white','linewidth':2}\n",
    "plt.title('대륙별 술 소비량')\n",
    "plt.pie(c_df,labels=c_df.index,autopct='%.1f%%',startangle=90,counterclock=False, \\\n",
    "        colors=colors,wedgeprops=wedgeprops,pctdistance=0.7)\n",
    "plt.legend(loc=(1.1,0.2),title='술 소비량')\n",
    "plt.show()"
   ]
  },
  {
   "cell_type": "code",
   "execution_count": 77,
   "metadata": {},
   "outputs": [
    {
     "data": {
      "text/plain": [
       "Index(['country', 'beer_servings', 'spirit_servings', 'wine_servings',\n",
       "       'total_litres_of_pure_alcohol', 'continent', 'total_servings'],\n",
       "      dtype='object')"
      ]
     },
     "execution_count": 77,
     "metadata": {},
     "output_type": "execute_result"
    }
   ],
   "source": [
    "df.columns"
   ]
  },
  {
   "cell_type": "code",
   "execution_count": null,
   "metadata": {},
   "outputs": [
    {
     "data": {
      "image/png": "[encoded data removed]",
      "text/plain": [
       "<Figure size 640x480 with 1 Axes>"
      ]
     },
     "metadata": {},
     "output_type": "display_data"
    }
   ],
   "source": [
    "### 전체 평균보다 많은 알코올 도수를 섭취하는 대륙 출력\n",
    "# 1. 전체 평균 도수 구하기\n",
    "data = df['total_litres_of_pure_alcohol'].mean() # 전체 평균 도수\n",
    "\n",
    "# 2. 대륙별 평균 도수 구하기\n",
    "total_df= df.groupby('continent')['total_litres_of_pure_alcohol'].mean() # 대륙별 도수 평균\n",
    "\n",
    "# 3. 필터구하기\n",
    "filt = total_df>data\n",
    "# 4. 필터 적용해서 출력\n",
    "total_df[filt]\n",
    "\n",
    "\n",
    "# 내가한것ㅋㅎㅋ\n",
    "# def func(x):\n",
    "#   if filt2 > filt:\n",
    "#     return filt2\n",
    "#   else: ''\n",
    "\n",
    "plt.pie(total_df[filt],labels=total_df[filt].index)\n",
    "plt.show()"
   ]
  },
  {
   "cell_type": "code",
   "execution_count": null,
   "metadata": {},
   "outputs": [
    {
     "data": {
      "text/plain": [
       "np.float64(193.77777777777777)"
      ]
     },
     "execution_count": 116,
     "metadata": {},
     "output_type": "execute_result"
    }
   ],
   "source": [
    "# 평균 beer_servings이 가장 높은 대륙\n",
    "df.groupby('continent')['beer_servings'].mean().sort_values(ascending=False).head(1).index # idx 출력\n",
    "df.groupby('continent')['beer_servings'].mean().idxmax() # idx 출력\n",
    "df.groupby('continent')['beer_servings'].mean().sort_values(ascending=False).head(1) # index 에 해당되는 value 출력\n",
    "df.groupby('continent')['beer_servings'].mean().max() # index 에 해당되는 value 출력"
   ]
  },
  {
   "cell_type": "code",
   "execution_count": null,
   "metadata": {},
   "outputs": [],
   "source": [
    "# 쌤이 하신것\n",
    "\n",
    "\n",
    "\n",
    "## 대륙별 total_litres_of_pure_alcohol 막대그래프로 출력하시오.\n",
    "## 마지막에는 평균 막대그래프를 출력하시오.\n",
    "# 1. 전체 total_litres_of_pure_alcohol 평균을 구하기\n",
    "data = df['total_litres_of_pure_alcohol'].mean()\n",
    "n_data = [data]*6\n",
    "# 2. 대륙별 total_litres_of_pure_alcohol 평균을 구하기\n",
    "# 'AF', 'AS', 'EU', 'OC', 'OT', 'SA'\n",
    "con_df = df.groupby('continent')['total_litres_of_pure_alcohol'].mean()\n",
    "con_df\n",
    "# 3. 컬럼에 대륙별 평균을 추가하기 mean\n",
    "con_df['mean'] = data\n",
    "# 4. 막대그래프를 출력\n",
    "con_bar = plt.bar(con_df.index,con_df)\n",
    "plt.plot(con_df.index,[data]*7,ls=\"--\",color='black')\n",
    "plt.grid(axis='y',ls='--',alpha=0.5)  # 격자선\n",
    "# con_bar[len(con_df)-1].set_color('red')\n",
    "con_bar[len(con_df)-1].set_color('red')"
   ]
  },
  {
   "cell_type": "code",
   "execution_count": null,
   "metadata": {},
   "outputs": [],
   "source": [
    "# 대륙별 total_litres_of_pure_alcohol 를 막대그래프로 출력\n",
    "# '대륙별 평균' 막대그래프도 출력('대륙별 평균' 컬럼 추가)\n",
    "# 1. 전체 total_litres_of_pure_alcohol 평균\n",
    "data = df['total_litres_of_pure_alcohol'].mean() # 전체 평균 도수\n",
    "n_data = [data]*6\n",
    "# 2. 대륙별 total_litres_of_pure_alcohol 평균\n",
    "con_df = df.groupby('continent')['total_litres_of_pure_alcohol'].mean()\n",
    "# 3. 대륙별 total_litres_of_pure_alcohol 평균 목록 뒤에 컬럼 '전체 평균' 추가\n",
    "con_df['Mean'] = data\n",
    "# con_df.index\n",
    "# 4. 막대그래프 출력\n",
    "con_bar = plt.bar(con_df.index,con_df)\n",
    "plt.plot(total_df.index,[data]*7,ls='--',color='black')\n",
    "plt.grid(axis='y',ls='--',alpha=0.5) # 격자선\n",
    "con_bar[len(con_df)-1].set_color('red')\n"
   ]
  },
  {
   "cell_type": "code",
   "execution_count": null,
   "metadata": {},
   "outputs": [
    {
     "data": {
      "text/plain": [
       "Index(['AF', 'AS', 'EU', 'OC', 'OT', 'SA'], dtype='object', name='continent')"
      ]
     },
     "execution_count": 143,
     "metadata": {},
     "output_type": "execute_result"
    }
   ],
   "source": [
    "x = total_df.index\n",
    "y = [data]*6\n",
    "plt.plot(x,y)"
   ]
  }
 ],
 "metadata": {
  "kernelspec": {
   "display_name": "Python 3",
   "language": "python",
   "name": "python3"
  },
  "language_info": {
   "codemirror_mode": {
    "name": "ipython",
    "version": 3
   },
   "file_extension": ".py",
   "mimetype": "text/x-python",
   "name": "python",
   "nbconvert_exporter": "python",
   "pygments_lexer": "ipython3",
   "version": "3.12.6"
  }
 },
 "nbformat": 4,
 "nbformat_minor": 2
}
