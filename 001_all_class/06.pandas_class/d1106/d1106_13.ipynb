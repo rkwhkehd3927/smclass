{
 "cells": [
  {
   "cell_type": "markdown",
   "metadata": {},
   "source": [
    "졸음 운전 교통사고 파일 3개를 병합하여\n",
    "1. 사고가 가장 많이 난 횟수 상위 5개 출력\n",
    "2. 사망자 평균 출력"
   ]
  },
  {
   "cell_type": "code",
   "execution_count": null,
   "metadata": {},
   "outputs": [
    {
     "data": {
      "text/plain": [
       "6    273\n",
       "7    268\n",
       "8    252\n",
       "4    239\n",
       "2    237\n",
       "Name: 사고(건), dtype: int64"
      ]
     },
     "execution_count": 6,
     "metadata": {},
     "output_type": "execute_result"
    }
   ],
   "source": [
    "import pandas as pd\n",
    "\n",
    "df1 = pd.read_csv('2014년졸음운전교통사고.csv',encoding='euc-kr')\n",
    "df2 = pd.read_csv('2015년졸음운전교통사고.csv',encoding='euc-kr')\n",
    "df3 = pd.read_csv('2016년졸음운전교통사고.csv',encoding='euc-kr')\n",
    "df = pd.concat([df1,df2,df3]) # 병합\n",
    "df['사고(건)'].head()\n",
    "df['사고(건)'].tail()\n",
    "df['사고(건)'].nsmallest()\n",
    "df['사고(건)'].nlargest()\n",
    "\n"
   ]
  },
  {
   "cell_type": "code",
   "execution_count": 11,
   "metadata": {},
   "outputs": [
    {
     "data": {
      "text/plain": [
       "np.float64(9.333333333333334)"
      ]
     },
     "execution_count": 11,
     "metadata": {},
     "output_type": "execute_result"
    }
   ],
   "source": [
    "df.describe()\n",
    "df['사망(명)'].max()\n",
    "df['사망(명)'].min()\n",
    "df['사망(명)'].describe()\n",
    "df['사망(명)'].mean()\n"
   ]
  }
 ],
 "metadata": {
  "kernelspec": {
   "display_name": "Python 3",
   "language": "python",
   "name": "python3"
  },
  "language_info": {
   "codemirror_mode": {
    "name": "ipython",
    "version": 3
   },
   "file_extension": ".py",
   "mimetype": "text/x-python",
   "name": "python",
   "nbconvert_exporter": "python",
   "pygments_lexer": "ipython3",
   "version": "3.12.6"
  }
 },
 "nbformat": 4,
 "nbformat_minor": 2
}
