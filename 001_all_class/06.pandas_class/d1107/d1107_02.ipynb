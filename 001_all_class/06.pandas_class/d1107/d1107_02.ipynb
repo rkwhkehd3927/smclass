{
 "cells": [
  {
   "cell_type": "code",
   "execution_count": null,
   "metadata": {},
   "outputs": [],
   "source": [
    "from selenium import webdriver\n",
    "from selenium.webdriver.common.by import By\n",
    "from selenium.webdriver.common.keys import Keys\n",
    "import time\n",
    "import requests\n",
    "from bs4 import BeautifulSoup"
   ]
  },
  {
   "cell_type": "code",
   "execution_count": null,
   "metadata": {},
   "outputs": [],
   "source": [
    "import pandas as pd\n",
    "df = pd.read_csv('screens.csv',index_col='제목')\n",
    "df"
   ]
  },
  {
   "cell_type": "code",
   "execution_count": null,
   "metadata": {},
   "outputs": [],
   "source": [
    "df['관객수'].nlargest()\n",
    "df['관객수'].nsmallest()\n",
    "df.sort_index(ascending=False)"
   ]
  },
  {
   "cell_type": "markdown",
   "metadata": {},
   "source": [
    "### ↓ 파일 저장 오류난 코드\n"
   ]
  },
  {
   "cell_type": "code",
   "execution_count": null,
   "metadata": {},
   "outputs": [],
   "source": [
    "# 파일 저장\n",
    "topTitle = ['제목','관객수','날짜']\n",
    "f.write('제목,관객수,날짜\\n') # 1번만 들어가야함\n",
    "\n",
    "\n",
    "# 웹 스크래핑 시작\n",
    "for syear in range(2020,2024):\n",
    "  f = open('screens.csv','a',encoding='utf-8')\n",
    "  with open(f'screen{syear}.html','r',encoding='utf-8') as f:\n",
    "    soup = BeautifulSoup(f,'lxml')\n",
    "    print(f\"{syear}년도 ---------------------\")\n",
    "\n",
    "    # 기준점 \n",
    "    data = soup.select_one(\"#mor_history_id_0 > div > div.flipsnap_view > div > div:nth-child(1) > c-flicking-item > c-layout > div > c-list-doc > ul\")\n",
    "    screens = data.select(\"li\")\n",
    "    for i,screen in enumerate(screens):\n",
    "      print(f\"{i+1}. -------------------\")\n",
    "      s_img = screen.select_one(\".wrap_thumb img\")['src']\n",
    "      # print(\"이미지 : \",s_img)\n",
    "      title = screen.select_one(\".tit-g.clamp-g\").text.strip()\n",
    "      # print(\"제목 : \",title)\n",
    "      number = int(screen.select_one(\".conts-desc.clamp-g\").text.strip()[3:-2].replace(\",\",\"\"))\n",
    "      # print(\"관객수 : \",number)\n",
    "      sdate = screen.select_one(\".conts-subdesc.clamp-g\").text.strip()[:-1]\n",
    "      # print(\"날짜 : \",sdate)\n",
    "      s_list = [title,number,sdate]\n",
    "      print(s_list)\n",
    "\n",
    "      # 파일 저장\n",
    "      f.writelines(s_list)\n",
    "      f.write(f'{title},{number},{sdate}\\n')\n",
    "\n",
    "      \n",
    "      # f.write(','.join(s_list)+'\\n')\n",
    "      print(s_list)\n",
    "\n",
    "f.close()   \n",
    "\n",
    "print(\"프로그램 완료\")\n"
   ]
  },
  {
   "cell_type": "markdown",
   "metadata": {},
   "source": [
    "#### ↓ 파일 저장 이제 됨"
   ]
  },
  {
   "cell_type": "code",
   "execution_count": null,
   "metadata": {},
   "outputs": [],
   "source": [
    "\n",
    "# 웹스크래핑 시작\n",
    "s_list = []\n",
    "for syear in range(2020,2024):\n",
    "  with open(f'screen{syear}.html','r',encoding='utf-8') as f:\n",
    "    soup = BeautifulSoup(f,'lxml')\n",
    "    print(f\"{syear}년도 ----------------------\")\n",
    "\n",
    "    # 기준점\n",
    "    data = soup.select_one(\"#mor_history_id_0 > div > div.flipsnap_view > div > div:nth-child(1) > c-flicking-item > c-layout > div > c-list-doc > ul\")\n",
    "    screens = data.select(\"li\")\n",
    "    for i,screen in enumerate(screens):\n",
    "      print(f\"{i+1}. ------------------\")\n",
    "      s_img = screen.select_one(\".wrap_thumb img\")['src']\n",
    "      title = screen.select_one(\".tit-g.clamp-g\").text.strip()\n",
    "      # number = int(screen.select_one(\".conts-desc.clamp-g\").text.strip()[3:-2].replace(\",\",\"\"))\n",
    "      number = screen.select_one(\".conts-desc.clamp-g\").text.strip()[3:-2].replace(\",\",\"\")\n",
    "      sdate = screen.select_one(\".conts-subdesc.clamp-g\").text.strip()[:-1]\n",
    "\n",
    "      # 정보40개 저장됨.\n",
    "      # 바로바로 파일 저장 하지 않고, s_list에 모든 데이터를 담아서, 마지막에 모두 저장\n",
    "      s_list.append([title,number,sdate])\n",
    "\n",
    "\n",
    "print(\"리스트 파일 작업완료\")\n",
    "\n",
    "# 파일저장\n",
    "\n",
    "topTitle = ['제목','관객수','날짜']\n",
    "with open('screens.csv','w',encoding=\"utf-8\") as f:\n",
    "  f.write('제목,관객수,날짜\\n')  # 1번만 글 저장\n",
    "  for s in s_list:\n",
    "    f.write(','.join(s)+\"\\n\")"
   ]
  }
 ],
 "metadata": {
  "kernelspec": {
   "display_name": "Python 3",
   "language": "python",
   "name": "python3"
  },
  "language_info": {
   "codemirror_mode": {
    "name": "ipython",
    "version": 3
   },
   "file_extension": ".py",
   "mimetype": "text/x-python",
   "name": "python",
   "nbconvert_exporter": "python",
   "pygments_lexer": "ipython3",
   "version": "3.12.6"
  }
 },
 "nbformat": 4,
 "nbformat_minor": 2
}
